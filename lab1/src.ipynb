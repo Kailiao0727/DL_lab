{
 "cells": [
  {
   "cell_type": "code",
   "execution_count": 106,
   "id": "958e90c0",
   "metadata": {},
   "outputs": [],
   "source": [
    "import numpy as np\n",
    "import matplotlib.pyplot as plt\n",
    "import math"
   ]
  },
  {
   "cell_type": "code",
   "execution_count": 107,
   "id": "c84045b7",
   "metadata": {},
   "outputs": [],
   "source": [
    "def generate_linear(n=100):\n",
    "    \n",
    "    pts = np.random.uniform(0, 1, (n, 2))\n",
    "    inputs = []\n",
    "    labels = []\n",
    "    for pt in pts:\n",
    "        inputs.append([pt[0], pt[1]])\n",
    "        distance = (pt[0]-pt[1])/1.414\n",
    "        if pt[0] > pt[1]:\n",
    "            labels.append(0)\n",
    "        else:\n",
    "            labels.append(1)\n",
    "    return np.array(inputs), np.array(labels).reshape(n, 1)\n",
    "\n",
    "def generat_XOR_easy():\n",
    "    import numpy as np\n",
    "    inputs = []\n",
    "    labels = []\n",
    "\n",
    "    for i in range(11):\n",
    "        inputs.append([0.1*i, 0.1*i])\n",
    "        labels.append(0)\n",
    "\n",
    "        if 0.1* i == 0.5:\n",
    "            continue\n",
    "\n",
    "        inputs.append([0.1*i, 1-0.1*i])\n",
    "        labels.append(1)\n",
    "    \n",
    "    return np.array(inputs), np.array(labels).reshape(21, 1)\n",
    "        "
   ]
  },
  {
   "cell_type": "code",
   "execution_count": 149,
   "id": "93c1b2f0",
   "metadata": {},
   "outputs": [],
   "source": [
    "def show_result(x, y, pred_y):\n",
    "    plt.subplot(1, 2, 1)\n",
    "    plt.title('Ground Truth', fontsize=18)\n",
    "    for i in range(x.shape[0]):\n",
    "        if y[i] == 0:\n",
    "            plt.plot(x[i][0], x[i][1], 'ro')\n",
    "        else:\n",
    "            plt.plot(x[i][0], x[i][1], 'bo')\n",
    "    \n",
    "    plt.subplot(1, 2, 2)\n",
    "    plt.title('Predict result', fontsize=18)\n",
    "    for i in range(x.shape[0]):\n",
    "        if pred_y[i] == 0:\n",
    "            plt.plot(x[i][0], x[i][1], 'ro')\n",
    "        else:\n",
    "            plt.plot(x[i][0], x[i][1], 'bo')\n",
    "    \n",
    "    plt.show()"
   ]
  },
  {
   "cell_type": "code",
   "execution_count": null,
   "id": "fa58c07b",
   "metadata": {},
   "outputs": [],
   "source": [
    "class Linear:\n",
    "    def __init__(self, n_x, n_y):\n",
    "        self.n_x = n_x\n",
    "        self.n_y = n_y\n",
    "        self.initialize_parameters()\n",
    "\n",
    "    def initialize_parameters(self):\n",
    "        # np.random.seed(1)\n",
    "        # limit = math.sqrt(6/(self.n_x + self.n_y))\n",
    "        # W = np.random.uniform(low=-limit, high=limit, size = (self.n_y, self.n_x))\n",
    "        # b = np.zeros((self.n_y, 1))\n",
    "        # self.W = W\n",
    "        # self.b = b\n",
    "        self.W = np.random.randn(self.n_y, self.n_x) * np.sqrt(2. / self.n_x)\n",
    "        self.b = np.zeros((self.n_y, 1))\n",
    "\n",
    "    def forward(self, A):\n",
    "        Z = np.matmul(self.W, A) + self.b\n",
    "        self.cache = (A, self.W, self.b)\n",
    "        return Z\n",
    "\n",
    "    def backward(self, dZ):\n",
    "        A_prev, W, b = self.cache\n",
    "        m = A_prev.shape[1]\n",
    "        self.dW = (1 / m) * np.matmul(dZ, A_prev.T)\n",
    "        self.db = (1 / m) * np.sum(dZ, axis=1, keepdims=True)\n",
    "        dA_prev = np.matmul(W.T, dZ)\n",
    "\n",
    "        return dA_prev\n",
    "    \n",
    "    def update(self, learning_rate):\n",
    "        self.W -= learning_rate * self.dW\n",
    "        self.b -= learning_rate * self.db"
   ]
  },
  {
   "cell_type": "code",
   "execution_count": 114,
   "id": "6f6bb701",
   "metadata": {},
   "outputs": [],
   "source": [
    "class Activation():\n",
    "    def __init__(self, function):\n",
    "        self.function = function\n",
    "    \n",
    "    def forward(self, Z):\n",
    "        if self.function == 'sigmoid':\n",
    "            A = np.where(Z >= 0, 1 / (1 + np.exp(-Z)), np.exp(Z) / (1 + np.exp(Z)))\n",
    "            self.cache = Z\n",
    "            return A\n",
    "\n",
    "        elif self.function == 'relu':\n",
    "            A = np.where(Z >= 0, Z, 0)\n",
    "            self.cache = Z\n",
    "            return A\n",
    "    \n",
    "    def backward(self, dA=None, Y=None):\n",
    "        if self.function == 'sigmoid':\n",
    "            Z = self.cache\n",
    "            dg = self.forward(Z) * (1 - self.forward(Z))\n",
    "            dZ = dA * dg\n",
    "            return dZ\n",
    "\n",
    "        elif self.function == 'relu':\n",
    "            Z = self.cache\n",
    "            dZ = np.array(dA, copy=True)\n",
    "            dZ[Z <= 0] = 0\n",
    "            return dZ\n"
   ]
  },
  {
   "cell_type": "code",
   "execution_count": 117,
   "id": "255196c7",
   "metadata": {},
   "outputs": [],
   "source": [
    "class Model():\n",
    "    def __init__(self, units, activation_functions):\n",
    "        self.units = units\n",
    "        self.activation_functions = activation_functions\n",
    "        self.initialize_parameters()\n",
    "\n",
    "    def initialize_parameters(self):\n",
    "        self.linear = []\n",
    "        self.activation = []\n",
    "        for i in self.activation_functions:\n",
    "            self.activation.append(Activation(i))\n",
    "        for i in range(len(self.units)-1):\n",
    "            self.linear.append(Linear(self.units[i], self.units[i+1]))\n",
    "    \n",
    "    def forward(self, X):\n",
    "        A = X\n",
    "        for i in range(len(self.linear)):\n",
    "            A = self.linear[i].forward(A)\n",
    "            A = self.activation[i].forward(A)\n",
    "        return A\n",
    "    \n",
    "    def backward(self, AL=None, Y=None):\n",
    "        L = len(self.linear)\n",
    "\n",
    "        if self.activation_functions[-1] == \"sigmoid\":\n",
    "            epsilon = 0.00001\n",
    "            dAL = -(np.divide(Y, AL + epsilon) - np.divide(1 - Y, 1 - AL + epsilon))\n",
    "            dZ = self.activation[-1].backward(dAL, Y)\n",
    "            \n",
    "            dA_prev = self.linear[-1].backward(dZ)\n",
    "        else:\n",
    "            dZ = self.activation[-1].backward(None, Y)\n",
    "\n",
    "            dA_prev = self.linear[-1].backward(dZ)\n",
    "\n",
    "        for  l in range(L-2, -1, -1):\n",
    "            dZ = self.activation[l].backward(dA_prev, Y)\n",
    "            dA_prev = self.linear[l].backward(dZ)\n",
    "\n",
    "        return dA_prev\n",
    "    \n",
    "    def update(self, learning_rate):\n",
    "        L = len(self.linear)\n",
    "        for i in range(L-1, -1, -1):\n",
    "            self.linear[i].update(learning_rate)"
   ]
  },
  {
   "cell_type": "code",
   "execution_count": 120,
   "id": "5c5ffc9c",
   "metadata": {},
   "outputs": [],
   "source": [
    "def compute_BCE_cost(AL, Y):\n",
    "    m = Y.shape[1]\n",
    "\n",
    "    cost = -(1/m) * np.sum(Y * np.log(AL + 0.00001) + (1 - Y) * np.log(1 - AL + 0.00001))\n",
    "    \n",
    "    cost = np.squeeze(cost)\n",
    "    \n",
    "    return cost"
   ]
  },
  {
   "cell_type": "code",
   "execution_count": 121,
   "id": "703d41fa",
   "metadata": {},
   "outputs": [
    {
     "name": "stdout",
     "output_type": "stream",
     "text": [
      "(100, 2) (100, 1)\n",
      "(21, 2) (21, 1)\n"
     ]
    }
   ],
   "source": [
    "X1, y1 = generate_linear(n=100)\n",
    "print(X1.shape, y1.shape)\n",
    "X2, y2 =  generat_XOR_easy()\n",
    "print(X2.shape, y2.shape)"
   ]
  },
  {
   "cell_type": "code",
   "execution_count": 122,
   "id": "e0c06b63",
   "metadata": {},
   "outputs": [],
   "source": [
    "indices = np.random.permutation(X1.shape[0])"
   ]
  },
  {
   "cell_type": "code",
   "execution_count": 123,
   "id": "4af7c1b0",
   "metadata": {},
   "outputs": [
    {
     "name": "stdout",
     "output_type": "stream",
     "text": [
      "(2, 20) (1, 20)\n"
     ]
    }
   ],
   "source": [
    "X1 = X1[indices]\n",
    "y1 = y1[indices]\n",
    "X1_train, y1_train = X1[:80, :].T, y1[:80, :].T\n",
    "X1_test, y1_test = X1[80:, :].T, y1[80:, :].T\n",
    "print(X1_test.shape, y1_test.shape)"
   ]
  },
  {
   "cell_type": "code",
   "execution_count": 124,
   "id": "f468b3ac",
   "metadata": {},
   "outputs": [
    {
     "name": "stdout",
     "output_type": "stream",
     "text": [
      "Cost after iteration 0: 0.695293\n",
      "Cost after iteration 100: 0.565699\n",
      "Cost after iteration 200: 0.177432\n",
      "Cost after iteration 300: 0.095160\n",
      "Cost after iteration 400: 0.069517\n",
      "Cost after iteration 500: 0.057126\n",
      "Cost after iteration 600: 0.049734\n"
     ]
    },
    {
     "name": "stdout",
     "output_type": "stream",
     "text": [
      "Cost after iteration 700: 0.044773\n",
      "Cost after iteration 800: 0.041191\n",
      "Cost after iteration 900: 0.038476\n",
      "Cost after iteration 1000: 0.036345\n",
      "Cost after iteration 1100: 0.034629\n",
      "Cost after iteration 1200: 0.033218\n",
      "Cost after iteration 1300: 0.032040\n",
      "Cost after iteration 1400: 0.031042\n",
      "Cost after iteration 1500: 0.030188\n",
      "Cost after iteration 1600: 0.029448\n",
      "Cost after iteration 1700: 0.028803\n",
      "Cost after iteration 1800: 0.028234\n",
      "Cost after iteration 1900: 0.027730\n",
      "Cost after iteration 2000: 0.027280\n",
      "Cost after iteration 2100: 0.026875\n",
      "Cost after iteration 2200: 0.026507\n",
      "Cost after iteration 2300: 0.026172\n",
      "Cost after iteration 2400: 0.025862\n",
      "Cost after iteration 2500: 0.025574\n",
      "Cost after iteration 2600: 0.025303\n",
      "Cost after iteration 2700: 0.025042\n",
      "Cost after iteration 2800: 0.024785\n",
      "Cost after iteration 2900: 0.024525\n",
      "Cost after iteration 3000: 0.024249\n",
      "Cost after iteration 3100: 0.023942\n",
      "Cost after iteration 3200: 0.023584\n",
      "Cost after iteration 3300: 0.023151\n",
      "Cost after iteration 3400: 0.022632\n",
      "Cost after iteration 3500: 0.022040\n",
      "Cost after iteration 3600: 0.021412\n",
      "Cost after iteration 3700: 0.020794\n",
      "Cost after iteration 3800: 0.020211\n",
      "Cost after iteration 3900: 0.019671\n",
      "Cost after iteration 4000: 0.019168\n",
      "Cost after iteration 4100: 0.018696\n",
      "Cost after iteration 4200: 0.018250\n",
      "Cost after iteration 4300: 0.017824\n",
      "Cost after iteration 4400: 0.017415\n",
      "Cost after iteration 4500: 0.017021\n",
      "Cost after iteration 4600: 0.016639\n",
      "Cost after iteration 4700: 0.016270\n",
      "Cost after iteration 4800: 0.015910\n",
      "Cost after iteration 4900: 0.015560\n"
     ]
    }
   ],
   "source": [
    "model = Model([2, 3, 3, 1], [\"sigmoid\", \"sigmoid\", \"sigmoid\"])\n",
    "learning_rate = 0.75\n",
    "num_iterations = 5000\n",
    "classes = 2\n",
    "costs = []                         # keep track of cost\n",
    "\n",
    "for i in range(0, num_iterations):\n",
    "    # forward\n",
    "    AL = model.forward(X1_train)\n",
    "\n",
    "    cost = (compute_BCE_cost(AL, y1_train))\n",
    "\n",
    "\n",
    "    # backward\n",
    "    dA_prev = model.backward(AL, y1_train)\n",
    "    \n",
    "    # update\n",
    "    model.update(learning_rate)\n",
    "\n",
    "    if i % 100 == 0:\n",
    "        print (\"Cost after iteration %i: %f\" %(i, cost))\n",
    "        costs.append(cost)\n"
   ]
  },
  {
   "cell_type": "code",
   "execution_count": 125,
   "id": "a6d51bba",
   "metadata": {},
   "outputs": [],
   "source": [
    "def predict(X, y, model): \n",
    "    m = X.shape[1]\n",
    "    n = len(model.linear)\n",
    "\n",
    "    p = np.zeros((1,m))\n",
    "\n",
    "    \n",
    "    probas = model.forward(X)\n",
    "    \n",
    "    # convert probas to 0/1 predictions\n",
    "    for i in range(0, probas.shape[1]):\n",
    "        if probas[0,i] > 0.5:\n",
    "            p[0,i] = 1\n",
    "        else:\n",
    "            p[0,i] = 0\n",
    "\n",
    "    #print results\n",
    "    if y is not None:\n",
    "        print(\"Accuracy: \"  + str(np.sum((p == y)/m)))\n",
    "\n",
    "        \n",
    "    return p"
   ]
  },
  {
   "cell_type": "code",
   "execution_count": 132,
   "id": "93e10366",
   "metadata": {},
   "outputs": [
    {
     "name": "stdout",
     "output_type": "stream",
     "text": [
      "Accuracy: 1.0000000000000002\n"
     ]
    }
   ],
   "source": [
    "pred_train = predict(X1_test, y1_test, model)"
   ]
  },
  {
   "cell_type": "code",
   "execution_count": 134,
   "id": "ea224c41",
   "metadata": {},
   "outputs": [
    {
     "data": {
      "text/plain": [
       "(20,)"
      ]
     },
     "execution_count": 134,
     "metadata": {},
     "output_type": "execute_result"
    }
   ],
   "source": [
    "pred_train = pred_train.reshape(20,)\n",
    "y1_test = y1_test.reshape(20,)\n",
    "pred_train.shape"
   ]
  },
  {
   "cell_type": "code",
   "execution_count": 141,
   "id": "3f4d19da",
   "metadata": {},
   "outputs": [
    {
     "data": {
      "text/plain": [
       "((2, 20), (20,), (20,))"
      ]
     },
     "execution_count": 141,
     "metadata": {},
     "output_type": "execute_result"
    }
   ],
   "source": [
    "X1_test.shape, y1_test.shape, pred_train.shape"
   ]
  },
  {
   "cell_type": "code",
   "execution_count": 148,
   "id": "7a83c843",
   "metadata": {},
   "outputs": [
    {
     "data": {
      "text/plain": [
       "((20, 2),\n",
       " array([[0.96959575, 0.56103022],\n",
       "        [0.77217803, 0.90781585],\n",
       "        [0.38786064, 0.86354185],\n",
       "        [0.6280762 , 0.28557628],\n",
       "        [0.23702698, 0.90337952],\n",
       "        [0.72599799, 0.88330609],\n",
       "        [0.13713575, 0.93259546],\n",
       "        [0.62169572, 0.11474597],\n",
       "        [0.13645523, 0.05991769],\n",
       "        [0.61714491, 0.3266449 ],\n",
       "        [0.82884581, 0.5747115 ],\n",
       "        [0.99732285, 0.17234051],\n",
       "        [0.12427096, 0.01988013],\n",
       "        [0.96727633, 0.56810046],\n",
       "        [0.06653648, 0.2603151 ],\n",
       "        [0.94797021, 0.82711547],\n",
       "        [0.80949069, 0.34473665],\n",
       "        [0.24621107, 0.86002795],\n",
       "        [0.69805725, 0.86447943],\n",
       "        [0.1374747 , 0.13927635]]))"
      ]
     },
     "execution_count": 148,
     "metadata": {},
     "output_type": "execute_result"
    }
   ],
   "source": [
    "X1_test.T.shape, X1_test.T"
   ]
  },
  {
   "cell_type": "code",
   "execution_count": 150,
   "id": "c6f4c8fe",
   "metadata": {},
   "outputs": [
    {
     "data": {
      "image/png": "[encoded data removed]",
      "text/plain": [
       "<Figure size 640x480 with 2 Axes>"
      ]
     },
     "metadata": {},
     "output_type": "display_data"
    }
   ],
   "source": [
    "show_result(X1_test.T, y1_test, pred_train)"
   ]
  }
 ],
 "metadata": {
  "kernelspec": {
   "display_name": "Python dl-env",
   "language": "python",
   "name": "dl-env"
  },
  "language_info": {
   "codemirror_mode": {
    "name": "ipython",
    "version": 3
   },
   "file_extension": ".py",
   "mimetype": "text/x-python",
   "name": "python",
   "nbconvert_exporter": "python",
   "pygments_lexer": "ipython3",
   "version": "3.11.13"
  }
 },
 "nbformat": 4,
 "nbformat_minor": 5
}
